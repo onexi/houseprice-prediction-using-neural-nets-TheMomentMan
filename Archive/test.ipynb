{
 "cells": [
  {
   "cell_type": "markdown",
   "id": "0c60d66e",
   "metadata": {},
   "source": [
    "# House Price Predictor\n",
    "\n",
    "This notebook loads and preprocesses the training data (`train.csv`), trains a deep neural network model, tunes hyperparameters via grid search with early stopping, and finally predicts `SalePrice` for the data in `test.csv`. The final submission output is a DataFrame with two columns: `Id` and the predicted `SalePrice`."
   ]
  },
  {
   "cell_type": "code",
   "execution_count": 21,
   "id": "e5b1833d",
   "metadata": {},
   "outputs": [],
   "source": [
    "import pandas as pd\n",
    "import numpy as np\n",
    "import torch\n",
    "import torch.nn as nn\n",
    "import torch.optim as optim\n",
    "from torch.utils.data import TensorDataset, DataLoader\n",
    "from sklearn.model_selection import train_test_split\n",
    "from sklearn.preprocessing import StandardScaler\n",
    "from sklearn.metrics import mean_squared_error, r2_score\n",
    "import itertools\n",
    "import os"
   ]
  },
  {
   "cell_type": "markdown",
   "id": "1f6a43ac",
   "metadata": {},
   "source": [
    "## 1. Load and Preprocess Training Data (train.csv)\n",
    "\n",
    "We load `train.csv`, one-hot encode categorical features, drop missing values, and select the top features based on correlation with `SalePrice`."
   ]
  },
  {
   "cell_type": "code",
   "execution_count": 22,
   "id": "3c0f3c9e",
   "metadata": {},
   "outputs": [
    {
     "name": "stdout",
     "output_type": "stream",
     "text": [
      "Selected top features: ['OverallQual', 'GrLivArea', 'GarageCars', 'GarageArea', 'TotalBsmtSF', '1stFlrSF', 'ExterQual_TA', 'TotRmsAbvGrd', 'FullBath', 'KitchenQual_TA', 'YearRemodAdd', 'YearBuilt', 'Foundation_PConc', 'GarageFinish_Unf', 'GarageYrBlt']\n"
     ]
    }
   ],
   "source": [
    "# Load train.csv\n",
    "train_df = pd.read_csv('train.csv')\n",
    "target = 'SalePrice'\n",
    "\n",
    "# Identify categorical columns (object or category type)\n",
    "categorical_cols = train_df.select_dtypes(include=['object', 'category']).columns\n",
    "\n",
    "# One-hot encode categorical variables (drop_first to avoid dummy variable trap)\n",
    "data = pd.get_dummies(train_df, columns=categorical_cols, dtype=int, drop_first=True)\n",
    "\n",
    "# Drop rows with missing values\n",
    "data.dropna(inplace=True)\n",
    "\n",
    "# Save the full list of feature columns (after dummy encoding) for later use\n",
    "train_columns = data.drop(columns=[target]).columns\n",
    "\n",
    "# Compute correlation matrix and select top features (top 20, adjust if needed)\n",
    "corr_matrix = data.corr()\n",
    "target_corr = corr_matrix[target].drop(target).abs().sort_values(ascending=False)\n",
    "top_features = target_corr.head(15).index\n",
    "print(\"Selected top features:\", list(top_features))\n",
    "\n",
    "# Define input features (X) and target (y) using the top features\n",
    "X = data[top_features].values\n",
    "y = data[target].values.reshape(-1, 1)"
   ]
  },
  {
   "cell_type": "markdown",
   "id": "1334f258",
   "metadata": {},
   "source": [
    "## 2. Split Data: Train, Validation, and Test (from train.csv)\n",
    "\n",
    "We split the data into 80% train+validation and 20% test, then split train+validation into approximately 60% training and 20% validation."
   ]
  },
  {
   "cell_type": "code",
   "execution_count": 23,
   "id": "fbbbc4f8",
   "metadata": {},
   "outputs": [],
   "source": [
    "X_trainval, X_test, y_trainval, y_test = train_test_split(X, y, test_size=0.2, random_state=42)\n",
    "X_train, X_val, y_train, y_val = train_test_split(X_trainval, y_trainval, test_size=0.25, random_state=42)"
   ]
  },
  {
   "cell_type": "markdown",
   "id": "764acb88",
   "metadata": {},
   "source": [
    "## 3. Scale Features and Target\n",
    "\n",
    "We use two separate StandardScalers: one for the features and one for the target (`SalePrice`)."
   ]
  },
  {
   "cell_type": "code",
   "execution_count": 24,
   "id": "cc1a2e95",
   "metadata": {},
   "outputs": [],
   "source": [
    "# Scale features\n",
    "scaler_X = StandardScaler()\n",
    "X_train = scaler_X.fit_transform(X_train)\n",
    "X_val   = scaler_X.transform(X_val)\n",
    "X_test  = scaler_X.transform(X_test)\n",
    "\n",
    "# Scale target\n",
    "scaler_y = StandardScaler()\n",
    "y_train_scaled = scaler_y.fit_transform(y_train)\n",
    "y_val_scaled   = scaler_y.transform(y_val)\n",
    "y_test_scaled  = scaler_y.transform(y_test)"
   ]
  },
  {
   "cell_type": "markdown",
   "id": "4f15da27",
   "metadata": {},
   "source": [
    "## 4. Convert Data to PyTorch Tensors\n",
    "\n",
    "We convert our numpy arrays into PyTorch tensors and create TensorDatasets for training and validation."
   ]
  },
  {
   "cell_type": "code",
   "execution_count": 25,
   "id": "69df7b16",
   "metadata": {},
   "outputs": [],
   "source": [
    "X_train_tensor = torch.tensor(X_train, dtype=torch.float32)\n",
    "y_train_tensor = torch.tensor(y_train_scaled, dtype=torch.float32)\n",
    "X_val_tensor   = torch.tensor(X_val, dtype=torch.float32)\n",
    "y_val_tensor   = torch.tensor(y_val_scaled, dtype=torch.float32)\n",
    "X_test_tensor  = torch.tensor(X_test, dtype=torch.float32)\n",
    "y_test_tensor  = torch.tensor(y_test_scaled, dtype=torch.float32)\n",
    "\n",
    "train_dataset = TensorDataset(X_train_tensor, y_train_tensor)\n",
    "val_dataset   = TensorDataset(X_val_tensor, y_val_tensor)"
   ]
  },
  {
   "cell_type": "markdown",
   "id": "cecc7a72",
   "metadata": {},
   "source": [
    "## 5. Define the Deep Neural Network Model\n",
    "\n",
    "We define a deep neural network with three hidden layers and dropout."
   ]
  },
  {
   "cell_type": "code",
   "execution_count": 26,
   "id": "4c06db95",
   "metadata": {},
   "outputs": [],
   "source": [
    "class HousePriceNNDeep(nn.Module):\n",
    "    def __init__(self, input_dim, hidden1=128, hidden2=64, dropout=0.5):\n",
    "        super(HousePriceNNDeep, self).__init__()\n",
    "        self.fc1 = nn.Linear(input_dim, hidden1)\n",
    "        self.fc2 = nn.Linear(hidden1, hidden2)\n",
    "        self.fc3 = nn.Linear(hidden2, 1)\n",
    "        self.relu = nn.ReLU()\n",
    "        self.dropout = nn.Dropout(dropout)\n",
    "    \n",
    "    def forward(self, x):\n",
    "        x = self.relu(self.fc1(x))\n",
    "        x = self.dropout(x)\n",
    "        x = self.relu(self.fc2(x))\n",
    "        x = self.dropout(x)\n",
    "        x = self.fc3(x)\n",
    "        return x\n"
   ]
  },
  {
   "cell_type": "markdown",
   "id": "a0242bb2",
   "metadata": {},
   "source": [
    "## 6. Define the Training Function with Early Stopping and Weight Decay\n",
    "\n",
    "This function trains the model using the provided hyperparameters, applies early stopping, and computes unscaled validation metrics."
   ]
  },
  {
   "cell_type": "code",
   "execution_count": 27,
   "id": "2b4b7a0a",
   "metadata": {},
   "outputs": [],
   "source": [
    "def train_and_evaluate_deep(hparams, device='cpu', patience=20):\n",
    "    \"\"\"\n",
    "    Trains the deep network using provided hyperparameters.\n",
    "    Returns: best validation loss (scaled), model, unscaled validation MSE, unscaled validation R².\n",
    "    hparams: dict with keys: 'learning_rate', 'batch_size', 'num_epochs', 'hidden1', 'hidden2', 'hidden3', 'dropout'\n",
    "    \"\"\"\n",
    "    input_dim = X_train_tensor.shape[1]\n",
    "    model = HousePriceNNDeep(input_dim,\n",
    "                             hidden1=hparams['hidden1'],\n",
    "                             hidden2=hparams['hidden2'],\n",
    "                             dropout=hparams['dropout']).to(device)\n",
    "    \n",
    "    train_loader = DataLoader(train_dataset, batch_size=hparams['batch_size'], shuffle=True)\n",
    "    criterion = nn.MSELoss()\n",
    "    optimizer = optim.Adam(model.parameters(), lr=hparams['learning_rate'], weight_decay=1e-5)\n",
    "    \n",
    "    best_val_loss = float('inf')\n",
    "    epochs_without_improve = 0\n",
    "    best_model_state = None\n",
    "    \n",
    "    for epoch in range(hparams['num_epochs']):\n",
    "        model.train()\n",
    "        running_loss = 0.0\n",
    "        for batch_X, batch_y in train_loader:\n",
    "            batch_X, batch_y = batch_X.to(device), batch_y.to(device)\n",
    "            optimizer.zero_grad()\n",
    "            outputs = model(batch_X)\n",
    "            loss = criterion(outputs, batch_y)\n",
    "            loss.backward()\n",
    "            optimizer.step()\n",
    "            running_loss += loss.item() * batch_X.size(0)\n",
    "        epoch_loss = running_loss / len(train_dataset)\n",
    "        \n",
    "        # Evaluate on validation set (scaled targets)\n",
    "        model.eval()\n",
    "        with torch.no_grad():\n",
    "            val_preds = model(X_val_tensor.to(device))\n",
    "            val_loss = criterion(val_preds, y_val_tensor.to(device)).item()\n",
    "        \n",
    "        if val_loss < best_val_loss:\n",
    "            best_val_loss = val_loss\n",
    "            epochs_without_improve = 0\n",
    "            best_model_state = model.state_dict()\n",
    "        else:\n",
    "            epochs_without_improve += 1\n",
    "        \n",
    "        if epochs_without_improve >= patience:\n",
    "            print(f\"Early stopping at epoch {epoch+1}, best validation loss (scaled): {best_val_loss:.4f}\")\n",
    "            break\n",
    "\n",
    "    model.load_state_dict(best_model_state)\n",
    "    \n",
    "    # Compute unscaled performance on the validation set:\n",
    "    model.eval()\n",
    "    with torch.no_grad():\n",
    "        val_preds = model(X_val_tensor.to(device))\n",
    "        val_preds_np = val_preds.cpu().numpy()\n",
    "        y_val_np = y_val_tensor.cpu().numpy()\n",
    "        \n",
    "        # Inverse-transform predictions and true values\n",
    "        val_preds_unscaled = scaler_y.inverse_transform(val_preds_np)\n",
    "        y_val_unscaled = scaler_y.inverse_transform(y_val_np)\n",
    "        \n",
    "        unscaled_val_mse = mean_squared_error(y_val_unscaled, val_preds_unscaled)\n",
    "        unscaled_val_r2 = r2_score(y_val_unscaled, val_preds_unscaled)\n",
    "    \n",
    "    return best_val_loss, model, unscaled_val_mse, unscaled_val_r2"
   ]
  },
  {
   "cell_type": "markdown",
   "id": "b3a0c9b7",
   "metadata": {},
   "source": [
    "## 7. Hyperparameter Tuning via Grid Search\n",
    "\n",
    "We iterate over a grid of hyperparameters to find the best settings based on validation performance."
   ]
  },
  {
   "cell_type": "code",
   "execution_count": 28,
   "id": "9e4b2ad3",
   "metadata": {},
   "outputs": [
    {
     "name": "stdout",
     "output_type": "stream",
     "text": [
      "Early stopping at epoch 38, best validation loss (scaled): 0.3145\n",
      "Iteration 1: Params: {'learning_rate': 0.005, 'batch_size': 32, 'num_epochs': 200, 'hidden1': 256, 'hidden2': 256, 'dropout': 0.5} -> Scaled Val Loss: 0.3145 | Unscaled Val MSE: 3058892544.00, R²: 0.5776\n",
      "Early stopping at epoch 42, best validation loss (scaled): 0.3089\n",
      "Iteration 2: Params: {'learning_rate': 0.01, 'batch_size': 16, 'num_epochs': 200, 'hidden1': 512, 'hidden2': 64, 'dropout': 0.5} -> Scaled Val Loss: 0.3089 | Unscaled Val MSE: 2648803328.00, R²: 0.6342\n",
      "Early stopping at epoch 24, best validation loss (scaled): 0.3241\n",
      "Iteration 3: Params: {'learning_rate': 0.001, 'batch_size': 32, 'num_epochs': 100, 'hidden1': 128, 'hidden2': 256, 'dropout': 0.2} -> Scaled Val Loss: 0.3241 | Unscaled Val MSE: 2677862400.00, R²: 0.6302\n",
      "Early stopping at epoch 25, best validation loss (scaled): 0.3208\n",
      "Iteration 4: Params: {'learning_rate': 0.005, 'batch_size': 64, 'num_epochs': 1000, 'hidden1': 256, 'hidden2': 128, 'dropout': 0.2} -> Scaled Val Loss: 0.3208 | Unscaled Val MSE: 2498908416.00, R²: 0.6549\n",
      "Early stopping at epoch 24, best validation loss (scaled): 0.3296\n",
      "Iteration 5: Params: {'learning_rate': 0.001, 'batch_size': 64, 'num_epochs': 1000, 'hidden1': 512, 'hidden2': 128, 'dropout': 0.3} -> Scaled Val Loss: 0.3296 | Unscaled Val MSE: 2739530752.00, R²: 0.6217\n",
      "Early stopping at epoch 21, best validation loss (scaled): 0.3073\n",
      "Iteration 6: Params: {'learning_rate': 0.01, 'batch_size': 16, 'num_epochs': 500, 'hidden1': 256, 'hidden2': 64, 'dropout': 0.2} -> Scaled Val Loss: 0.3073 | Unscaled Val MSE: 2488291072.00, R²: 0.6564\n",
      "Early stopping at epoch 23, best validation loss (scaled): 0.3032\n",
      "Iteration 7: Params: {'learning_rate': 0.005, 'batch_size': 64, 'num_epochs': 500, 'hidden1': 128, 'hidden2': 128, 'dropout': 0.3} -> Scaled Val Loss: 0.3032 | Unscaled Val MSE: 3144459520.00, R²: 0.5658\n",
      "Early stopping at epoch 22, best validation loss (scaled): 0.3166\n",
      "Iteration 8: Params: {'learning_rate': 0.001, 'batch_size': 32, 'num_epochs': 500, 'hidden1': 128, 'hidden2': 128, 'dropout': 0.3} -> Scaled Val Loss: 0.3166 | Unscaled Val MSE: 2794100480.00, R²: 0.6141\n",
      "Early stopping at epoch 70, best validation loss (scaled): 0.3011\n",
      "Iteration 9: Params: {'learning_rate': 0.005, 'batch_size': 64, 'num_epochs': 200, 'hidden1': 256, 'hidden2': 256, 'dropout': 0.3} -> Scaled Val Loss: 0.3011 | Unscaled Val MSE: 2651122176.00, R²: 0.6339\n",
      "Early stopping at epoch 27, best validation loss (scaled): 0.3198\n",
      "Iteration 10: Params: {'learning_rate': 0.005, 'batch_size': 16, 'num_epochs': 1000, 'hidden1': 128, 'hidden2': 256, 'dropout': 0.3} -> Scaled Val Loss: 0.3198 | Unscaled Val MSE: 2402814208.00, R²: 0.6682\n",
      "Early stopping at epoch 33, best validation loss (scaled): 0.3146\n",
      "Iteration 11: Params: {'learning_rate': 0.005, 'batch_size': 16, 'num_epochs': 200, 'hidden1': 128, 'hidden2': 256, 'dropout': 0.3} -> Scaled Val Loss: 0.3146 | Unscaled Val MSE: 2679628800.00, R²: 0.6300\n",
      "Early stopping at epoch 27, best validation loss (scaled): 0.3138\n",
      "Iteration 12: Params: {'learning_rate': 0.0005, 'batch_size': 32, 'num_epochs': 200, 'hidden1': 128, 'hidden2': 128, 'dropout': 0.3} -> Scaled Val Loss: 0.3138 | Unscaled Val MSE: 2490419968.00, R²: 0.6561\n",
      "Early stopping at epoch 22, best validation loss (scaled): 0.3060\n",
      "Iteration 13: Params: {'learning_rate': 0.001, 'batch_size': 64, 'num_epochs': 500, 'hidden1': 256, 'hidden2': 256, 'dropout': 0.5} -> Scaled Val Loss: 0.3060 | Unscaled Val MSE: 2429549056.00, R²: 0.6645\n",
      "Early stopping at epoch 23, best validation loss (scaled): 0.3234\n",
      "Iteration 14: Params: {'learning_rate': 0.01, 'batch_size': 64, 'num_epochs': 200, 'hidden1': 128, 'hidden2': 64, 'dropout': 0.2} -> Scaled Val Loss: 0.3234 | Unscaled Val MSE: 3174026752.00, R²: 0.5617\n",
      "Early stopping at epoch 95, best validation loss (scaled): 0.2719\n",
      "Iteration 15: Params: {'learning_rate': 0.005, 'batch_size': 64, 'num_epochs': 1000, 'hidden1': 512, 'hidden2': 64, 'dropout': 0.2} -> Scaled Val Loss: 0.2719 | Unscaled Val MSE: 2724646400.00, R²: 0.6237\n",
      "Early stopping at epoch 21, best validation loss (scaled): 0.3185\n",
      "Iteration 16: Params: {'learning_rate': 0.005, 'batch_size': 64, 'num_epochs': 100, 'hidden1': 128, 'hidden2': 128, 'dropout': 0.5} -> Scaled Val Loss: 0.3185 | Unscaled Val MSE: 2608765696.00, R²: 0.6397\n",
      "Early stopping at epoch 39, best validation loss (scaled): 0.3068\n",
      "Iteration 17: Params: {'learning_rate': 0.005, 'batch_size': 16, 'num_epochs': 500, 'hidden1': 512, 'hidden2': 128, 'dropout': 0.2} -> Scaled Val Loss: 0.3068 | Unscaled Val MSE: 3362618880.00, R²: 0.5356\n",
      "Early stopping at epoch 28, best validation loss (scaled): 0.3113\n",
      "Iteration 18: Params: {'learning_rate': 0.005, 'batch_size': 16, 'num_epochs': 1000, 'hidden1': 256, 'hidden2': 256, 'dropout': 0.5} -> Scaled Val Loss: 0.3113 | Unscaled Val MSE: 2851806464.00, R²: 0.6062\n",
      "Early stopping at epoch 26, best validation loss (scaled): 0.3042\n",
      "Iteration 19: Params: {'learning_rate': 0.0005, 'batch_size': 32, 'num_epochs': 100, 'hidden1': 256, 'hidden2': 64, 'dropout': 0.3} -> Scaled Val Loss: 0.3042 | Unscaled Val MSE: 2431997440.00, R²: 0.6641\n",
      "Early stopping at epoch 32, best validation loss (scaled): 0.3289\n",
      "Iteration 20: Params: {'learning_rate': 0.01, 'batch_size': 32, 'num_epochs': 100, 'hidden1': 512, 'hidden2': 256, 'dropout': 0.2} -> Scaled Val Loss: 0.3289 | Unscaled Val MSE: 2481761792.00, R²: 0.6573\n",
      "\n",
      "Best hyperparameters found for the deep network:\n",
      "{'learning_rate': 0.005, 'batch_size': 64, 'num_epochs': 1000, 'hidden1': 512, 'hidden2': 64, 'dropout': 0.2}\n",
      "Best validation loss (scaled): 0.2719\n",
      "Unscaled Validation MSE: 2724646400.00\n",
      "Unscaled Validation R²: 0.6237\n"
     ]
    }
   ],
   "source": [
    "import random\n",
    "\n",
    "device = torch.device('cuda' if torch.cuda.is_available() else 'cpu')\n",
    "\n",
    "param_grid = {\n",
    "    'learning_rate': [0.0005, 0.001, 0.005, 0.01],\n",
    "    'batch_size': [16, 32, 64],\n",
    "    'num_epochs': [100, 200, 500,1000],\n",
    "    'hidden1': [128, 256, 512],\n",
    "    'hidden2': [64, 128, 256],\n",
    "    'dropout': [0.2, 0.3, 0.5]\n",
    "}\n",
    "\n",
    "best_val_loss = float('inf')\n",
    "best_params = None\n",
    "best_model_state = None\n",
    "best_unscaled_val_mse = None\n",
    "best_unscaled_val_r2 = None\n",
    "\n",
    "n_iter = 20  # number of random combinations to try\n",
    "\n",
    "for i in range(n_iter):\n",
    "    # Randomly sample one value for each parameter:\n",
    "    hparams = { key: random.choice(values) for key, values in param_grid.items() }\n",
    "    \n",
    "    val_loss_scaled, temp_model, val_mse_unscaled, val_r2_unscaled = train_and_evaluate_deep(hparams, device=device, patience=20)\n",
    "    print(f\"Iteration {i+1}: Params: {hparams} -> Scaled Val Loss: {val_loss_scaled:.4f} | Unscaled Val MSE: {val_mse_unscaled:.2f}, R²: {val_r2_unscaled:.4f}\")\n",
    "    \n",
    "    if val_loss_scaled < best_val_loss:\n",
    "        best_val_loss = val_loss_scaled\n",
    "        best_params = hparams\n",
    "        best_model_state = temp_model.state_dict()\n",
    "        best_unscaled_val_mse = val_mse_unscaled\n",
    "        best_unscaled_val_r2 = val_r2_unscaled\n",
    "\n",
    "print(\"\\nBest hyperparameters found for the deep network:\")\n",
    "print(best_params)\n",
    "print(f\"Best validation loss (scaled): {best_val_loss:.4f}\")\n",
    "print(f\"Unscaled Validation MSE: {best_unscaled_val_mse:.2f}\")\n",
    "print(f\"Unscaled Validation R²: {best_unscaled_val_r2:.4f}\")\n"
   ]
  },
  {
   "cell_type": "markdown",
   "id": "508da4f3",
   "metadata": {},
   "source": [
    "param_grid = {\n",
    "    'learning_rate': [0.0005, 0.001, 0.005, 0.01],\n",
    "    'batch_size': [16, 32, 64],\n",
    "    'num_epochs': [100, 200, 300],\n",
    "    'hidden1': [128, 256, 512],\n",
    "    'hidden2': [64, 128, 256],\n",
    "    'hidden3': [32, 64],\n",
    "    'dropout': [0.2, 0.3, 0.5]\n",
    "}\n",
    "\n",
    "import random\n",
    "\n",
    "# Set the number of random combinations you want to try\n",
    "n_iter = 20  # adjust as needed\n",
    "\n",
    "best_val_loss = float('inf')\n",
    "best_params = None\n",
    "best_model_state = None\n",
    "best_unscaled_val_mse = None\n",
    "best_unscaled_val_r2 = None\n",
    "\n",
    "for i in range(n_iter):\n",
    "    # Randomly sample a hyperparameter combination\n",
    "    hparams = {key: random.choice(values) for key, values in param_grid.items()}\n",
    "    \n",
    "    val_loss_scaled, temp_model, val_mse_unscaled, val_r2_unscaled = train_and_evaluate_deep(hparams, device=device, patience=20)\n",
    "    print(f\"Iteration {i+1}, Params: {hparams} -> Scaled Val Loss: {val_loss_scaled:.4f} | Unscaled Val MSE: {val_mse_unscaled:.2f}, R²: {val_r2_unscaled:.4f}\")\n",
    "    \n",
    "    if val_loss_scaled < best_val_loss:\n",
    "        best_val_loss = val_loss_scaled\n",
    "        best_params = hparams\n",
    "        best_model_state = temp_model.state_dict()\n",
    "        best_unscaled_val_mse = val_mse_unscaled\n",
    "        best_unscaled_val_r2 = val_r2_unscaled\n",
    "\n",
    "print(\"\\nBest hyperparameters found for the deep network:\")\n",
    "print(best_params)\n",
    "print(f\"Best validation loss (scaled): {best_val_loss:.4f}\")\n",
    "print(f\"Unscaled Validation MSE: {best_unscaled_val_mse:.2f}\")\n",
    "print(f\"Unscaled Validation R²: {best_unscaled_val_r2:.4f}\")\n"
   ]
  },
  {
   "cell_type": "markdown",
   "id": "86d1e136",
   "metadata": {},
   "source": [
    "## 8. Retrain Final Model on Combined Training + Validation Data\n",
    "\n",
    "We combine the training and validation sets and retrain the model using the best hyperparameters."
   ]
  },
  {
   "cell_type": "code",
   "execution_count": 29,
   "id": "6c51ac2a",
   "metadata": {},
   "outputs": [],
   "source": [
    "X_trainval_combined = np.vstack([X_train, X_val])\n",
    "y_trainval_combined = np.concatenate([y_train_scaled, y_val_scaled], axis=0)\n",
    "X_trainval_tensor = torch.tensor(X_trainval_combined, dtype=torch.float32)\n",
    "y_trainval_tensor = torch.tensor(y_trainval_combined, dtype=torch.float32)\n",
    "trainval_dataset = TensorDataset(X_trainval_tensor, y_trainval_tensor)\n",
    "\n",
    "def train_final_deep_model(hparams, device='cpu'):\n",
    "    input_dim = X_trainval_tensor.shape[1]\n",
    "    model = HousePriceNNDeep(input_dim, hidden1=hparams['hidden1'],\n",
    "                             hidden2=hparams['hidden2'],\n",
    "                             dropout=hparams['dropout']).to(device)\n",
    "    train_loader = DataLoader(trainval_dataset, batch_size=hparams['batch_size'], shuffle=True)\n",
    "    criterion = nn.MSELoss()\n",
    "    optimizer = optim.Adam(model.parameters(), lr=hparams['learning_rate'], weight_decay=1e-5)\n",
    "    for epoch in range(hparams['num_epochs']):\n",
    "        model.train()\n",
    "        for batch_X, batch_y in train_loader:\n",
    "            batch_X, batch_y = batch_X.to(device), batch_y.to(device)\n",
    "            optimizer.zero_grad()\n",
    "            outputs = model(batch_X)\n",
    "            loss = criterion(outputs, batch_y)\n",
    "            loss.backward()\n",
    "            optimizer.step()\n",
    "    return model\n",
    "\n",
    "final_deep_model = train_final_deep_model(best_params, device=device)"
   ]
  },
  {
   "cell_type": "markdown",
   "id": "d1bfe1c1",
   "metadata": {},
   "source": [
    "## 9. Evaluate Final Model on Test Split (from train.csv)\n",
    "\n",
    "We evaluate the final model on the test split from train.csv by inverse-transforming predictions to obtain the original scale."
   ]
  },
  {
   "cell_type": "code",
   "execution_count": 30,
   "id": "c86a6533",
   "metadata": {},
   "outputs": [
    {
     "name": "stdout",
     "output_type": "stream",
     "text": [
      "\n",
      "Final Deep Model Performance on Test Split (from train.csv):\n",
      "Test MSE: 1098889472.0\n",
      "Test R²: 0.8491486310958862\n"
     ]
    }
   ],
   "source": [
    "final_deep_model.eval()\n",
    "with torch.no_grad():\n",
    "    test_preds = final_deep_model(X_test_tensor.to(device))\n",
    "    test_preds_np = test_preds.cpu().numpy()\n",
    "    y_test_np = y_test_tensor.cpu().numpy()\n",
    "    test_preds_unscaled = scaler_y.inverse_transform(test_preds_np)\n",
    "    y_test_unscaled = scaler_y.inverse_transform(y_test_np)\n",
    "    final_test_mse = mean_squared_error(y_test_unscaled, test_preds_unscaled)\n",
    "    final_test_r2  = r2_score(y_test_unscaled, test_preds_unscaled)\n",
    "\n",
    "print(\"\\nFinal Deep Model Performance on Test Split (from train.csv):\")\n",
    "print(\"Test MSE:\", final_test_mse)\n",
    "print(\"Test R²:\", final_test_r2)"
   ]
  },
  {
   "cell_type": "markdown",
   "id": "894fe8e2",
   "metadata": {},
   "source": [
    "## 10. Predict SalePrice on New Test Data (test.csv)\n",
    "\n",
    "We load `test.csv`, one-hot encode and reindex it to match the training features, scale the features, predict using the final model, inverse-transform predictions to the original scale, and create a submission DataFrame."
   ]
  },
  {
   "cell_type": "code",
   "execution_count": 31,
   "id": "bddeef0f",
   "metadata": {},
   "outputs": [
    {
     "name": "stdout",
     "output_type": "stream",
     "text": [
      "\n",
      "Submission Preview:\n",
      "     Id      SalePrice\n",
      "0  1001   69984.562500\n",
      "1  1002   91345.554688\n",
      "2  1003  255163.671875\n",
      "3  1004  170563.968750\n",
      "4  1005  207829.437500\n"
     ]
    },
    {
     "name": "stderr",
     "output_type": "stream",
     "text": [
      "/home/codespace/.local/lib/python3.12/site-packages/sklearn/utils/validation.py:2732: UserWarning: X has feature names, but StandardScaler was fitted without feature names\n",
      "  warnings.warn(\n"
     ]
    }
   ],
   "source": [
    "# Load the test.csv file (which lacks SalePrice but includes an 'Id' column)\n",
    "test_df = pd.read_csv('test.csv')\n",
    "ids = test_df['Id']\n",
    "\n",
    "# One-hot encode the test data using the same categorical columns as before\n",
    "test_encoded = pd.get_dummies(test_df, columns=categorical_cols, drop_first=True)\n",
    "# Reindex to match the training features\n",
    "test_encoded = test_encoded.reindex(columns=train_columns, fill_value=0)\n",
    "test_encoded = test_encoded[top_features]  # Select the same top features\n",
    "test_encoded = test_encoded.astype(float)\n",
    "X_test_new = scaler_X.transform(test_encoded)\n",
    "\n",
    "X_test_tensor_new = torch.tensor(X_test_new, dtype=torch.float32)\n",
    "final_deep_model.eval()\n",
    "with torch.no_grad():\n",
    "    test_predictions = final_deep_model(X_test_tensor_new.to(device))\n",
    "    test_predictions_np = test_predictions.cpu().numpy()\n",
    "\n",
    "# Inverse transform predictions to get SalePrice in the original scale.\n",
    "test_predictions_unscaled = scaler_y.inverse_transform(test_predictions_np)\n",
    "\n",
    "submission_df = pd.DataFrame({\n",
    "    'Id': ids,\n",
    "    'SalePrice': test_predictions_unscaled.flatten()\n",
    "})\n",
    "\n",
    "print(\"\\nSubmission Preview:\")\n",
    "print(submission_df.head())\n",
    "\n",
    "# Optionally, export to CSV:\n",
    "submission_df.to_csv('submissionV3.csv', index=False)"
   ]
  }
 ],
 "metadata": {
  "kernelspec": {
   "display_name": "Python 3",
   "language": "python",
   "name": "python3"
  },
  "language_info": {
   "codemirror_mode": {
    "name": "ipython",
    "version": 3
   },
   "file_extension": ".py",
   "mimetype": "text/x-python",
   "name": "python",
   "nbconvert_exporter": "python",
   "pygments_lexer": "ipython3",
   "version": "3.12.1"
  }
 },
 "nbformat": 4,
 "nbformat_minor": 5
}
